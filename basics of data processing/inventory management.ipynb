{
 "cells": [
  {
   "cell_type": "code",
   "execution_count": 7,
   "id": "27363fe1",
   "metadata": {},
   "outputs": [
    {
     "name": "stdout",
     "output_type": "stream",
     "text": [
      "Enter your name: ef\n",
      "Enter your phoneNo: 34\n",
      "Enter your mail: hszt\n",
      "Enter product ID: 2\n",
      "Enter product quantity: 5\n",
      "Sorry,We don't have that much of Quantity\n",
      "We have only quantity :  0\n",
      "Would you like to purchase it?\n",
      "Press Y/N: gfnf\n",
      "Thanks\n",
      "-------------------\n",
      "Inventory Updated\n"
     ]
    }
   ],
   "source": [
    "import time\n",
    "fd = open('Inventory.txt','r')\n",
    "products = fd.read().split('\\n')\n",
    "fd.close()\n",
    "ui_name=input(\"Enter your name: \")\n",
    "ui_phone=input(\"Enter your phoneNo: \")\n",
    "ui_mail=input(\"Enter your mail: \")\n",
    "ui_prod_id=input(\"Enter product ID: \")\n",
    "ui_prod_qn=input(\"Enter product quantity: \")\n",
    "updated_str=\"\"\n",
    "for i in products:\n",
    "    prod_details=i.split(\",\")\n",
    "    if prod_details[0]==ui_prod_id:\n",
    "        if int(ui_prod_qn)<=int(prod_details[3]):\n",
    "            print(\"---------------------------\")\n",
    "            print(\"Product name  :\",prod_details[1])\n",
    "            print(\"Price         :\",prod_details[2])\n",
    "            print(\"Quantity      :\",ui_prod_qn)\n",
    "            print(\"---------------------------\")\n",
    "            bill=int(ui_prod_qn)*int(prod_details[2])\n",
    "            print(\"Bill          :\",bill)\n",
    "            print(\"---------------------------\")\n",
    "            fd=open(\"sales.txt\",\"a\")\n",
    "            sales_details=ui_name+\",\"+ui_phone+\",\"+ui_mail+\",\"+ui_prod_id+\",\"+prod_details[1]+\",\"+ui_prod_qn+\",\"+str(bill)+','+time.ctime()+\"\\n\"\n",
    "            fd.write(sales_details)\n",
    "            fd.close()\n",
    "            prod_details[3]=str(int(prod_details[3])-int(ui_prod_qn))\n",
    "        else:\n",
    "            print(\"Sorry,We don't have that much of Quantity\")\n",
    "            print(\"We have only quantity : \",prod_details[3])\n",
    "            print(\"Would you like to purchase it?\")\n",
    "            ch=input(\"Press Y/N: \")\n",
    "            if ch==\"y\" or ch==\"Y\":\n",
    "                print(\"---------------------------\")\n",
    "                print(\"Product name  :\",prod_details[1])\n",
    "                print(\"Price         :\",prod_details[2])\n",
    "                print(\"Quantity      :\",prod_details[3])\n",
    "                print(\"---------------------------\")\n",
    "                bil=int(prod_details[3])*int(prod_details[2])\n",
    "                print(\"Bill          :\",bill)\n",
    "                print(\"---------------------------\")\n",
    "                fd=open(\"sales.txt\",\"a\")\n",
    "                fd=open(\"sales.txt\",\"a\")\n",
    "                sales_details=ui_name+\",\"+ui_phone+\",\"+ui_mail+\",\"+ui_prod_id+\",\"+prod_details[1]+\",\"+prod_details[3]+\",\"+str(bill)+','+time.ctime()+\"\\n\"\n",
    "                fd.write(sales_details)\n",
    "                fd.close()\n",
    "                prod_details[3]=\"0\"\n",
    "            else:\n",
    "                print(\"Thanks\")\n",
    "    updated_str=updated_str+\",\".join(prod_details)+\"\\n\"\n",
    "fd=open(\"Inventory.txt\",\"w\")\n",
    "fd.write(updated_str[:-1])\n",
    "fd.close()\n",
    "print(\"-------------------\")\n",
    "print(\"Inventory Updated\")"
   ]
  },
  {
   "cell_type": "code",
   "execution_count": 6,
   "id": "3bdd3728",
   "metadata": {},
   "outputs": [
    {
     "name": "stdout",
     "output_type": "stream",
     "text": [
      "sindooja,4787586,sbhb@gmail.com,2,dal,0,0,Sun Nov 27 17:42:25 2022\n",
      "sindooja,265,bt.com,1,rice,0,0,Sun Nov 27 17:50:24 2022\n",
      "\n"
     ]
    }
   ],
   "source": [
    "fd = open('sales.txt','r')\n",
    "products = fd.read().split('\\n')\n",
    "for i in products:\n",
    "    print(i)"
   ]
  },
  {
   "cell_type": "code",
   "execution_count": null,
   "id": "4e6cc570",
   "metadata": {},
   "outputs": [],
   "source": []
  }
 ],
 "metadata": {
  "kernelspec": {
   "display_name": "Python 3 (ipykernel)",
   "language": "python",
   "name": "python3"
  },
  "language_info": {
   "codemirror_mode": {
    "name": "ipython",
    "version": 3
   },
   "file_extension": ".py",
   "mimetype": "text/x-python",
   "name": "python",
   "nbconvert_exporter": "python",
   "pygments_lexer": "ipython3",
   "version": "3.9.13"
  }
 },
 "nbformat": 4,
 "nbformat_minor": 5
}
